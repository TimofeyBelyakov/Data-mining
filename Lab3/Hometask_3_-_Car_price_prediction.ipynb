{
 "cells": [
  {
   "cell_type": "markdown",
   "metadata": {},
   "source": [
    "### Лабораторная работа №3. 100,000 UK Used Car Data set\n",
    "https://www.kaggle.com/adityadesai13/used-car-dataset-ford-and-mercedes\n",
    "\n",
    "Задание:\n",
    "\n",
    "1. Набор данных для группы 3530903_70302: Mercedes<br>\n",
    "2. Разбить данные на тренировочные и тестовые (70% на 30%, random_state=10).\n",
    "3. Попытаться обучить регрессии c лучшим качеством. \n"
   ]
  },
  {
   "cell_type": "code",
   "execution_count": 1,
   "metadata": {},
   "outputs": [],
   "source": [
    "import pandas as pd\n",
    "import numpy as np\n",
    "import seaborn as sns\n",
    "import matplotlib.pyplot as plt"
   ]
  },
  {
   "cell_type": "code",
   "execution_count": 2,
   "metadata": {},
   "outputs": [
    {
     "data": {
      "text/html": [
       "<div>\n",
       "<style scoped>\n",
       "    .dataframe tbody tr th:only-of-type {\n",
       "        vertical-align: middle;\n",
       "    }\n",
       "\n",
       "    .dataframe tbody tr th {\n",
       "        vertical-align: top;\n",
       "    }\n",
       "\n",
       "    .dataframe thead th {\n",
       "        text-align: right;\n",
       "    }\n",
       "</style>\n",
       "<table border=\"1\" class=\"dataframe\">\n",
       "  <thead>\n",
       "    <tr style=\"text-align: right;\">\n",
       "      <th></th>\n",
       "      <th>model</th>\n",
       "      <th>year</th>\n",
       "      <th>price</th>\n",
       "      <th>transmission</th>\n",
       "      <th>mileage</th>\n",
       "      <th>fuelType</th>\n",
       "      <th>tax</th>\n",
       "      <th>mpg</th>\n",
       "      <th>engineSize</th>\n",
       "    </tr>\n",
       "  </thead>\n",
       "  <tbody>\n",
       "    <tr>\n",
       "      <th>0</th>\n",
       "      <td>SLK</td>\n",
       "      <td>2005</td>\n",
       "      <td>5200</td>\n",
       "      <td>Automatic</td>\n",
       "      <td>63000</td>\n",
       "      <td>Petrol</td>\n",
       "      <td>325</td>\n",
       "      <td>32.1</td>\n",
       "      <td>1.8</td>\n",
       "    </tr>\n",
       "    <tr>\n",
       "      <th>1</th>\n",
       "      <td>S Class</td>\n",
       "      <td>2017</td>\n",
       "      <td>34948</td>\n",
       "      <td>Automatic</td>\n",
       "      <td>27000</td>\n",
       "      <td>Hybrid</td>\n",
       "      <td>20</td>\n",
       "      <td>61.4</td>\n",
       "      <td>2.1</td>\n",
       "    </tr>\n",
       "    <tr>\n",
       "      <th>2</th>\n",
       "      <td>SL CLASS</td>\n",
       "      <td>2016</td>\n",
       "      <td>49948</td>\n",
       "      <td>Automatic</td>\n",
       "      <td>6200</td>\n",
       "      <td>Petrol</td>\n",
       "      <td>555</td>\n",
       "      <td>28.0</td>\n",
       "      <td>5.5</td>\n",
       "    </tr>\n",
       "    <tr>\n",
       "      <th>3</th>\n",
       "      <td>G Class</td>\n",
       "      <td>2016</td>\n",
       "      <td>61948</td>\n",
       "      <td>Automatic</td>\n",
       "      <td>16000</td>\n",
       "      <td>Petrol</td>\n",
       "      <td>325</td>\n",
       "      <td>30.4</td>\n",
       "      <td>4.0</td>\n",
       "    </tr>\n",
       "    <tr>\n",
       "      <th>4</th>\n",
       "      <td>G Class</td>\n",
       "      <td>2016</td>\n",
       "      <td>73948</td>\n",
       "      <td>Automatic</td>\n",
       "      <td>4000</td>\n",
       "      <td>Petrol</td>\n",
       "      <td>325</td>\n",
       "      <td>30.1</td>\n",
       "      <td>4.0</td>\n",
       "    </tr>\n",
       "    <tr>\n",
       "      <th>...</th>\n",
       "      <td>...</td>\n",
       "      <td>...</td>\n",
       "      <td>...</td>\n",
       "      <td>...</td>\n",
       "      <td>...</td>\n",
       "      <td>...</td>\n",
       "      <td>...</td>\n",
       "      <td>...</td>\n",
       "      <td>...</td>\n",
       "    </tr>\n",
       "    <tr>\n",
       "      <th>13114</th>\n",
       "      <td>C Class</td>\n",
       "      <td>2020</td>\n",
       "      <td>35999</td>\n",
       "      <td>Automatic</td>\n",
       "      <td>500</td>\n",
       "      <td>Diesel</td>\n",
       "      <td>145</td>\n",
       "      <td>55.4</td>\n",
       "      <td>2.0</td>\n",
       "    </tr>\n",
       "    <tr>\n",
       "      <th>13115</th>\n",
       "      <td>B Class</td>\n",
       "      <td>2020</td>\n",
       "      <td>24699</td>\n",
       "      <td>Automatic</td>\n",
       "      <td>2500</td>\n",
       "      <td>Diesel</td>\n",
       "      <td>145</td>\n",
       "      <td>55.4</td>\n",
       "      <td>2.0</td>\n",
       "    </tr>\n",
       "    <tr>\n",
       "      <th>13116</th>\n",
       "      <td>GLC Class</td>\n",
       "      <td>2019</td>\n",
       "      <td>30999</td>\n",
       "      <td>Automatic</td>\n",
       "      <td>11612</td>\n",
       "      <td>Diesel</td>\n",
       "      <td>145</td>\n",
       "      <td>41.5</td>\n",
       "      <td>2.1</td>\n",
       "    </tr>\n",
       "    <tr>\n",
       "      <th>13117</th>\n",
       "      <td>CLS Class</td>\n",
       "      <td>2019</td>\n",
       "      <td>37990</td>\n",
       "      <td>Automatic</td>\n",
       "      <td>2426</td>\n",
       "      <td>Diesel</td>\n",
       "      <td>145</td>\n",
       "      <td>45.6</td>\n",
       "      <td>2.0</td>\n",
       "    </tr>\n",
       "    <tr>\n",
       "      <th>13118</th>\n",
       "      <td>S Class</td>\n",
       "      <td>2019</td>\n",
       "      <td>54999</td>\n",
       "      <td>Automatic</td>\n",
       "      <td>2075</td>\n",
       "      <td>Diesel</td>\n",
       "      <td>145</td>\n",
       "      <td>52.3</td>\n",
       "      <td>2.9</td>\n",
       "    </tr>\n",
       "  </tbody>\n",
       "</table>\n",
       "<p>13119 rows × 9 columns</p>\n",
       "</div>"
      ],
      "text/plain": [
       "            model  year  price transmission  mileage fuelType  tax   mpg  \\\n",
       "0             SLK  2005   5200    Automatic    63000   Petrol  325  32.1   \n",
       "1         S Class  2017  34948    Automatic    27000   Hybrid   20  61.4   \n",
       "2        SL CLASS  2016  49948    Automatic     6200   Petrol  555  28.0   \n",
       "3         G Class  2016  61948    Automatic    16000   Petrol  325  30.4   \n",
       "4         G Class  2016  73948    Automatic     4000   Petrol  325  30.1   \n",
       "...           ...   ...    ...          ...      ...      ...  ...   ...   \n",
       "13114     C Class  2020  35999    Automatic      500   Diesel  145  55.4   \n",
       "13115     B Class  2020  24699    Automatic     2500   Diesel  145  55.4   \n",
       "13116   GLC Class  2019  30999    Automatic    11612   Diesel  145  41.5   \n",
       "13117   CLS Class  2019  37990    Automatic     2426   Diesel  145  45.6   \n",
       "13118     S Class  2019  54999    Automatic     2075   Diesel  145  52.3   \n",
       "\n",
       "       engineSize  \n",
       "0             1.8  \n",
       "1             2.1  \n",
       "2             5.5  \n",
       "3             4.0  \n",
       "4             4.0  \n",
       "...           ...  \n",
       "13114         2.0  \n",
       "13115         2.0  \n",
       "13116         2.1  \n",
       "13117         2.0  \n",
       "13118         2.9  \n",
       "\n",
       "[13119 rows x 9 columns]"
      ]
     },
     "execution_count": 2,
     "metadata": {},
     "output_type": "execute_result"
    }
   ],
   "source": [
    "auto_data = pd.read_csv(\"merc.csv\")\n",
    "auto_data"
   ]
  },
  {
   "cell_type": "code",
   "execution_count": 3,
   "metadata": {},
   "outputs": [
    {
     "data": {
      "text/plain": [
       "year              2.224709\n",
       "price         11842.675542\n",
       "mileage       21176.512267\n",
       "tax              65.260286\n",
       "mpg              15.220082\n",
       "engineSize        0.572426\n",
       "dtype: float64"
      ]
     },
     "execution_count": 3,
     "metadata": {},
     "output_type": "execute_result"
    }
   ],
   "source": [
    "auto_data.std()"
   ]
  },
  {
   "cell_type": "code",
   "execution_count": 4,
   "metadata": {},
   "outputs": [],
   "source": [
    "#sns.pairplot(auto_data)"
   ]
  },
  {
   "cell_type": "code",
   "execution_count": 5,
   "metadata": {},
   "outputs": [],
   "source": [
    "# new_auto_data = auto_data.drop(['model', 'transmission', 'fuelType'], axis = 1)\n",
    "\n",
    "# plt.figure(figsize=(18,10))\n",
    "# for i, column in enumerate(new_auto_data.columns):\n",
    "#     plt.subplot(2, 3, i + 1)\n",
    "#     plt.scatter(new_auto_data[column], new_auto_data['price'])\n",
    "#     plt.xlabel(column)\n",
    "#     plt.ylabel('price')"
   ]
  },
  {
   "cell_type": "code",
   "execution_count": 6,
   "metadata": {},
   "outputs": [
    {
     "data": {
      "text/plain": [
       "<AxesSubplot:>"
      ]
     },
     "execution_count": 6,
     "metadata": {},
     "output_type": "execute_result"
    },
    {
     "data": {
      "image/png": "[encoded data removed]",
      "text/plain": [
       "<Figure size 504x360 with 2 Axes>"
      ]
     },
     "metadata": {
      "needs_background": "light"
     },
     "output_type": "display_data"
    }
   ],
   "source": [
    "fig, ax = plt.subplots(figsize=(7,5))\n",
    "sns.heatmap(auto_data.corr(method='spearman'), annot = True, linewidths=0.7, ax=ax)"
   ]
  },
  {
   "cell_type": "markdown",
   "metadata": {},
   "source": [
    "<h4>Внесём номинальные признаки"
   ]
  },
  {
   "cell_type": "code",
   "execution_count": 7,
   "metadata": {},
   "outputs": [
    {
     "data": {
      "text/html": [
       "<div>\n",
       "<style scoped>\n",
       "    .dataframe tbody tr th:only-of-type {\n",
       "        vertical-align: middle;\n",
       "    }\n",
       "\n",
       "    .dataframe tbody tr th {\n",
       "        vertical-align: top;\n",
       "    }\n",
       "\n",
       "    .dataframe thead th {\n",
       "        text-align: right;\n",
       "    }\n",
       "</style>\n",
       "<table border=\"1\" class=\"dataframe\">\n",
       "  <thead>\n",
       "    <tr style=\"text-align: right;\">\n",
       "      <th></th>\n",
       "      <th>year</th>\n",
       "      <th>price</th>\n",
       "      <th>mileage</th>\n",
       "      <th>tax</th>\n",
       "      <th>mpg</th>\n",
       "      <th>engineSize</th>\n",
       "      <th>A Class</th>\n",
       "      <th>B Class</th>\n",
       "      <th>C Class</th>\n",
       "      <th>CL Class</th>\n",
       "      <th>...</th>\n",
       "      <th>220</th>\n",
       "      <th>230</th>\n",
       "      <th>Automatic</th>\n",
       "      <th>Manual</th>\n",
       "      <th>Other</th>\n",
       "      <th>Semi-Auto</th>\n",
       "      <th>Diesel</th>\n",
       "      <th>Hybrid</th>\n",
       "      <th>Other</th>\n",
       "      <th>Petrol</th>\n",
       "    </tr>\n",
       "  </thead>\n",
       "  <tbody>\n",
       "    <tr>\n",
       "      <th>0</th>\n",
       "      <td>2005</td>\n",
       "      <td>5200</td>\n",
       "      <td>63000</td>\n",
       "      <td>325</td>\n",
       "      <td>32.1</td>\n",
       "      <td>1.8</td>\n",
       "      <td>0</td>\n",
       "      <td>0</td>\n",
       "      <td>0</td>\n",
       "      <td>0</td>\n",
       "      <td>...</td>\n",
       "      <td>0</td>\n",
       "      <td>0</td>\n",
       "      <td>1</td>\n",
       "      <td>0</td>\n",
       "      <td>0</td>\n",
       "      <td>0</td>\n",
       "      <td>0</td>\n",
       "      <td>0</td>\n",
       "      <td>0</td>\n",
       "      <td>1</td>\n",
       "    </tr>\n",
       "    <tr>\n",
       "      <th>1</th>\n",
       "      <td>2017</td>\n",
       "      <td>34948</td>\n",
       "      <td>27000</td>\n",
       "      <td>20</td>\n",
       "      <td>61.4</td>\n",
       "      <td>2.1</td>\n",
       "      <td>0</td>\n",
       "      <td>0</td>\n",
       "      <td>0</td>\n",
       "      <td>0</td>\n",
       "      <td>...</td>\n",
       "      <td>0</td>\n",
       "      <td>0</td>\n",
       "      <td>1</td>\n",
       "      <td>0</td>\n",
       "      <td>0</td>\n",
       "      <td>0</td>\n",
       "      <td>0</td>\n",
       "      <td>1</td>\n",
       "      <td>0</td>\n",
       "      <td>0</td>\n",
       "    </tr>\n",
       "    <tr>\n",
       "      <th>2</th>\n",
       "      <td>2016</td>\n",
       "      <td>49948</td>\n",
       "      <td>6200</td>\n",
       "      <td>555</td>\n",
       "      <td>28.0</td>\n",
       "      <td>5.5</td>\n",
       "      <td>0</td>\n",
       "      <td>0</td>\n",
       "      <td>0</td>\n",
       "      <td>0</td>\n",
       "      <td>...</td>\n",
       "      <td>0</td>\n",
       "      <td>0</td>\n",
       "      <td>1</td>\n",
       "      <td>0</td>\n",
       "      <td>0</td>\n",
       "      <td>0</td>\n",
       "      <td>0</td>\n",
       "      <td>0</td>\n",
       "      <td>0</td>\n",
       "      <td>1</td>\n",
       "    </tr>\n",
       "    <tr>\n",
       "      <th>3</th>\n",
       "      <td>2016</td>\n",
       "      <td>61948</td>\n",
       "      <td>16000</td>\n",
       "      <td>325</td>\n",
       "      <td>30.4</td>\n",
       "      <td>4.0</td>\n",
       "      <td>0</td>\n",
       "      <td>0</td>\n",
       "      <td>0</td>\n",
       "      <td>0</td>\n",
       "      <td>...</td>\n",
       "      <td>0</td>\n",
       "      <td>0</td>\n",
       "      <td>1</td>\n",
       "      <td>0</td>\n",
       "      <td>0</td>\n",
       "      <td>0</td>\n",
       "      <td>0</td>\n",
       "      <td>0</td>\n",
       "      <td>0</td>\n",
       "      <td>1</td>\n",
       "    </tr>\n",
       "    <tr>\n",
       "      <th>4</th>\n",
       "      <td>2016</td>\n",
       "      <td>73948</td>\n",
       "      <td>4000</td>\n",
       "      <td>325</td>\n",
       "      <td>30.1</td>\n",
       "      <td>4.0</td>\n",
       "      <td>0</td>\n",
       "      <td>0</td>\n",
       "      <td>0</td>\n",
       "      <td>0</td>\n",
       "      <td>...</td>\n",
       "      <td>0</td>\n",
       "      <td>0</td>\n",
       "      <td>1</td>\n",
       "      <td>0</td>\n",
       "      <td>0</td>\n",
       "      <td>0</td>\n",
       "      <td>0</td>\n",
       "      <td>0</td>\n",
       "      <td>0</td>\n",
       "      <td>1</td>\n",
       "    </tr>\n",
       "  </tbody>\n",
       "</table>\n",
       "<p>5 rows × 41 columns</p>\n",
       "</div>"
      ],
      "text/plain": [
       "   year  price  mileage  tax   mpg  engineSize   A Class   B Class   C Class  \\\n",
       "0  2005   5200    63000  325  32.1         1.8         0         0         0   \n",
       "1  2017  34948    27000   20  61.4         2.1         0         0         0   \n",
       "2  2016  49948     6200  555  28.0         5.5         0         0         0   \n",
       "3  2016  61948    16000  325  30.4         4.0         0         0         0   \n",
       "4  2016  73948     4000  325  30.1         4.0         0         0         0   \n",
       "\n",
       "    CL Class  ...  220  230  Automatic  Manual  Other  Semi-Auto  Diesel  \\\n",
       "0          0  ...    0    0          1       0      0          0       0   \n",
       "1          0  ...    0    0          1       0      0          0       0   \n",
       "2          0  ...    0    0          1       0      0          0       0   \n",
       "3          0  ...    0    0          1       0      0          0       0   \n",
       "4          0  ...    0    0          1       0      0          0       0   \n",
       "\n",
       "   Hybrid  Other  Petrol  \n",
       "0       0      0       1  \n",
       "1       1      0       0  \n",
       "2       0      0       1  \n",
       "3       0      0       1  \n",
       "4       0      0       1  \n",
       "\n",
       "[5 rows x 41 columns]"
      ]
     },
     "execution_count": 7,
     "metadata": {},
     "output_type": "execute_result"
    }
   ],
   "source": [
    "new_auto_data = pd.concat([\n",
    "    auto_data.drop(['model', 'transmission', 'fuelType'], axis = 1), \n",
    "    pd.get_dummies(auto_data['model']),\n",
    "    pd.get_dummies(auto_data['transmission']),\n",
    "    pd.get_dummies(auto_data['fuelType'])], axis = 1)\n",
    "new_auto_data.head()"
   ]
  },
  {
   "cell_type": "code",
   "execution_count": 8,
   "metadata": {},
   "outputs": [],
   "source": [
    "import sklearn.metrics as metrics\n",
    "from sklearn.linear_model import LinearRegression, Lasso, Ridge, LassoCV, RidgeCV\n",
    "from sklearn.preprocessing import StandardScaler\n",
    "from sklearn.model_selection import train_test_split"
   ]
  },
  {
   "cell_type": "markdown",
   "metadata": {},
   "source": [
    "<h4>LinearRegression (без номинальных признаков, так как слишком высокая ошибка)"
   ]
  },
  {
   "cell_type": "code",
   "execution_count": 9,
   "metadata": {},
   "outputs": [
    {
     "name": "stdout",
     "output_type": "stream",
     "text": [
      "RMSE = 6875.358\n",
      "Test std = 12330.882 \n",
      "\n"
     ]
    }
   ],
   "source": [
    "X = auto_data.drop(['model', 'transmission', 'fuelType', 'price'], axis=1) \n",
    "Y = auto_data['price']\n",
    "X_train, X_test, Y_train, Y_test = train_test_split(X, Y, test_size=0.3, random_state=10)\n",
    "\n",
    "std_scaler = StandardScaler()\n",
    "\n",
    "X_train_scaled = std_scaler.fit_transform(X_train)\n",
    "X_test_scaled = std_scaler.transform(X_test)\n",
    "\n",
    "simple_LR = LinearRegression()\n",
    "\n",
    "simple_LR.fit(X_train_scaled, Y_train)\n",
    "simple_LR_predictions = simple_LR.predict(X_test_scaled)\n",
    "\n",
    "print (f'RMSE = {round(metrics.mean_squared_error(Y_test, simple_LR_predictions, squared = False), 3)}')\n",
    "print (f'Test std = {round(Y_test.std(), 3)}', '\\n')\n",
    "# print(pd.DataFrame(simple_LR.coef_, auto_data.drop(['model', 'transmission', 'fuelType'], axis=1).columns[1:], columns=['Coefficients']))\n",
    "# print(f'intercept    {round(simple_LR.intercept_, 3)}')"
   ]
  },
  {
   "cell_type": "markdown",
   "metadata": {},
   "source": [
    "(Другие методы без номинальных признаков дают тот же результат)"
   ]
  },
  {
   "cell_type": "code",
   "execution_count": 10,
   "metadata": {},
   "outputs": [],
   "source": [
    "X = new_auto_data.drop(['price'], axis=1) \n",
    "Y = new_auto_data['price']\n",
    "X_train, X_test, Y_train, Y_test = train_test_split(X, Y, test_size=0.3, random_state=10)\n",
    "\n",
    "std_scaler = StandardScaler()\n",
    "\n",
    "X_train_scaled = std_scaler.fit_transform(X_train)\n",
    "X_test_scaled = std_scaler.transform(X_test)"
   ]
  },
  {
   "cell_type": "markdown",
   "metadata": {},
   "source": [
    "<h4>Lasso"
   ]
  },
  {
   "cell_type": "code",
   "execution_count": 11,
   "metadata": {},
   "outputs": [
    {
     "name": "stdout",
     "output_type": "stream",
     "text": [
      "RMSE = 6007.6\n",
      "Test std = 12330.882 \n",
      "\n"
     ]
    },
    {
     "name": "stderr",
     "output_type": "stream",
     "text": [
      "c:\\users\\admin\\appdata\\local\\programs\\python\\python37\\lib\\site-packages\\sklearn\\linear_model\\_coordinate_descent.py:532: ConvergenceWarning: Objective did not converge. You might want to increase the number of iterations. Duality gap: 144686417.86523438, tolerance: 124132548.47634783\n",
      "  positive)\n"
     ]
    }
   ],
   "source": [
    "model_Lasso = Lasso()\n",
    "\n",
    "model_Lasso.fit(X_train_scaled, Y_train)\n",
    "predictions_Lasso = model_Lasso.predict(X_test_scaled)\n",
    "\n",
    "print (f'RMSE = {round(metrics.mean_squared_error(Y_test, predictions_Lasso, squared=False), 3)}')\n",
    "print (f'Test std = {round(Y_test.std(), 3)}', '\\n')\n",
    "# print(pd.DataFrame(model_Lasso.coef_, new_auto_data.columns[1:], columns=['Coefficients']))\n",
    "# print(f'intercept    {round(model_Lasso.intercept_, 3)}')"
   ]
  },
  {
   "cell_type": "markdown",
   "metadata": {},
   "source": [
    "<h4>LassoCV"
   ]
  },
  {
   "cell_type": "code",
   "execution_count": 12,
   "metadata": {},
   "outputs": [
    {
     "name": "stdout",
     "output_type": "stream",
     "text": [
      "RMSE = 6009.999\n",
      "Test std = 12330.882 \n",
      "\n"
     ]
    }
   ],
   "source": [
    "model_LassoCV = LassoCV(random_state=10)\n",
    "\n",
    "model_LassoCV.fit(X_train_scaled, Y_train)\n",
    "predictions_LassoCV = model_LassoCV.predict(X_test_scaled)\n",
    "\n",
    "print (f'RMSE = {round(metrics.mean_squared_error(Y_test, predictions_LassoCV, squared=False), 3)}')\n",
    "print (f'Test std = {round(Y_test.std(), 3)}', '\\n')\n",
    "# print(pd.DataFrame(model_LassoCV.coef_, new_auto_data.columns[1:], columns=['Coefficients']))\n",
    "# print(f'intercept    {round(model_LassoCV.intercept_, 3)}')"
   ]
  },
  {
   "cell_type": "markdown",
   "metadata": {},
   "source": [
    "<h4>Ridge"
   ]
  },
  {
   "cell_type": "code",
   "execution_count": 13,
   "metadata": {},
   "outputs": [
    {
     "name": "stdout",
     "output_type": "stream",
     "text": [
      "RMSE = 6007.52\n",
      "Test std = 12330.882 \n",
      "\n"
     ]
    }
   ],
   "source": [
    "model_Ridge = Ridge()\n",
    "\n",
    "model_Ridge.fit(X_train_scaled, Y_train)\n",
    "predictions_Ridge = model_Ridge.predict(X_test_scaled)\n",
    "\n",
    "print (f'RMSE = {round(metrics.mean_squared_error(Y_test, predictions_Ridge, squared=False), 3)}')\n",
    "print (f'Test std = {round(Y_test.std(), 3)}', '\\n')\n",
    "# print(pd.DataFrame(model_Ridge.coef_, new_auto_data.columns[1:], columns=['Coefficients']))\n",
    "# print(f'intercept    {round(model_Ridge.intercept_, 3)}')"
   ]
  },
  {
   "cell_type": "markdown",
   "metadata": {},
   "source": [
    "<h4>RidgeCV"
   ]
  },
  {
   "cell_type": "code",
   "execution_count": 14,
   "metadata": {},
   "outputs": [
    {
     "name": "stdout",
     "output_type": "stream",
     "text": [
      "RMSE = 6008.78\n",
      "Test std = 12330.882 \n",
      "\n"
     ]
    }
   ],
   "source": [
    "model_RidgeCV = RidgeCV()\n",
    "\n",
    "model_RidgeCV.fit(X_train_scaled, Y_train)\n",
    "predictions_RidgeCV = model_RidgeCV.predict(X_test_scaled)\n",
    "\n",
    "print (f'RMSE = {round(metrics.mean_squared_error(Y_test, predictions_RidgeCV, squared=False), 3)}')\n",
    "print (f'Test std = {round(Y_test.std(), 3)}', '\\n')\n",
    "# print(pd.DataFrame(model_RidgeCV.coef_, new_auto_data.columns[1:], columns=['Coefficients']))\n",
    "# print(f'intercept    {round(model_RidgeCV.intercept_, 3)}')"
   ]
  },
  {
   "cell_type": "code",
   "execution_count": 15,
   "metadata": {},
   "outputs": [
    {
     "data": {
      "image/png": "[encoded data removed]",
      "text/plain": [
       "<Figure size 1296x720 with 5 Axes>"
      ]
     },
     "metadata": {
      "needs_background": "light"
     },
     "output_type": "display_data"
    }
   ],
   "source": [
    "predictions = {\n",
    "    'LinearRegression' : simple_LR_predictions, \n",
    "    'Lasso' : predictions_Lasso, \n",
    "    'LassoCV' : predictions_LassoCV, \n",
    "    'Ridge' : predictions_Ridge, \n",
    "    'RidgeCV' : predictions_RidgeCV\n",
    "}\n",
    "\n",
    "plt.figure(figsize=(18,10))\n",
    "for i, key in enumerate(predictions.keys()):\n",
    "    plt.subplot(2, 3, i + 1)\n",
    "    plt.scatter(predictions[key], Y_test)\n",
    "    plt.title(key)\n",
    "    plt.xlabel('Predictions')\n",
    "    plt.ylabel('Target')"
   ]
  },
  {
   "cell_type": "markdown",
   "metadata": {},
   "source": [
    "<h4>Поперебираем альфа"
   ]
  },
  {
   "cell_type": "code",
   "execution_count": 16,
   "metadata": {},
   "outputs": [
    {
     "name": "stdout",
     "output_type": "stream",
     "text": [
      "RMSE = 6008.78\n",
      "Test std = 12330.882 \n",
      "\n"
     ]
    }
   ],
   "source": [
    "alphas = np.linspace(1, 10, 20)\n",
    "\n",
    "model_RidgeCV_alpha = RidgeCV(alphas=alphas)\n",
    "\n",
    "model_RidgeCV_alpha.fit(X_train_scaled, Y_train)\n",
    "predictions_RidgeCV_alpha = model_RidgeCV_alpha.predict(X_test_scaled)\n",
    "\n",
    "print (f'RMSE = {round(metrics.mean_squared_error(Y_test, predictions_RidgeCV_alpha, squared=False), 3)}')\n",
    "print (f'Test std = {round(Y_test.std(), 3)}', '\\n')\n",
    "# print(pd.DataFrame(model_RidgeCV_alpha.coef_, new_auto_data.columns[1:], columns=['Coefficients']))\n",
    "# print(f'intercept    {round(model_RidgeCV_alpha.intercept_, 3)}')"
   ]
  },
  {
   "cell_type": "markdown",
   "metadata": {},
   "source": [
    "(LassoCV ситуацию также не улучшил)"
   ]
  },
  {
   "cell_type": "markdown",
   "metadata": {},
   "source": [
    "<h4>Рассмотрим некоторые вещественные признаки как номинальные"
   ]
  },
  {
   "cell_type": "code",
   "execution_count": 17,
   "metadata": {},
   "outputs": [
    {
     "data": {
      "text/html": [
       "<div>\n",
       "<style scoped>\n",
       "    .dataframe tbody tr th:only-of-type {\n",
       "        vertical-align: middle;\n",
       "    }\n",
       "\n",
       "    .dataframe tbody tr th {\n",
       "        vertical-align: top;\n",
       "    }\n",
       "\n",
       "    .dataframe thead th {\n",
       "        text-align: right;\n",
       "    }\n",
       "</style>\n",
       "<table border=\"1\" class=\"dataframe\">\n",
       "  <thead>\n",
       "    <tr style=\"text-align: right;\">\n",
       "      <th></th>\n",
       "      <th>price</th>\n",
       "      <th>mileage</th>\n",
       "      <th>A Class</th>\n",
       "      <th>B Class</th>\n",
       "      <th>C Class</th>\n",
       "      <th>CL Class</th>\n",
       "      <th>CLA Class</th>\n",
       "      <th>CLC Class</th>\n",
       "      <th>CLK</th>\n",
       "      <th>CLS Class</th>\n",
       "      <th>...</th>\n",
       "      <th>78.5</th>\n",
       "      <th>80.7</th>\n",
       "      <th>100.9</th>\n",
       "      <th>122.8</th>\n",
       "      <th>122.9</th>\n",
       "      <th>134.5</th>\n",
       "      <th>176.6</th>\n",
       "      <th>188.3</th>\n",
       "      <th>201.8</th>\n",
       "      <th>217.3</th>\n",
       "    </tr>\n",
       "  </thead>\n",
       "  <tbody>\n",
       "    <tr>\n",
       "      <th>0</th>\n",
       "      <td>5200</td>\n",
       "      <td>63000</td>\n",
       "      <td>0</td>\n",
       "      <td>0</td>\n",
       "      <td>0</td>\n",
       "      <td>0</td>\n",
       "      <td>0</td>\n",
       "      <td>0</td>\n",
       "      <td>0</td>\n",
       "      <td>0</td>\n",
       "      <td>...</td>\n",
       "      <td>0</td>\n",
       "      <td>0</td>\n",
       "      <td>0</td>\n",
       "      <td>0</td>\n",
       "      <td>0</td>\n",
       "      <td>0</td>\n",
       "      <td>0</td>\n",
       "      <td>0</td>\n",
       "      <td>0</td>\n",
       "      <td>0</td>\n",
       "    </tr>\n",
       "    <tr>\n",
       "      <th>1</th>\n",
       "      <td>34948</td>\n",
       "      <td>27000</td>\n",
       "      <td>0</td>\n",
       "      <td>0</td>\n",
       "      <td>0</td>\n",
       "      <td>0</td>\n",
       "      <td>0</td>\n",
       "      <td>0</td>\n",
       "      <td>0</td>\n",
       "      <td>0</td>\n",
       "      <td>...</td>\n",
       "      <td>0</td>\n",
       "      <td>0</td>\n",
       "      <td>0</td>\n",
       "      <td>0</td>\n",
       "      <td>0</td>\n",
       "      <td>0</td>\n",
       "      <td>0</td>\n",
       "      <td>0</td>\n",
       "      <td>0</td>\n",
       "      <td>0</td>\n",
       "    </tr>\n",
       "    <tr>\n",
       "      <th>2</th>\n",
       "      <td>49948</td>\n",
       "      <td>6200</td>\n",
       "      <td>0</td>\n",
       "      <td>0</td>\n",
       "      <td>0</td>\n",
       "      <td>0</td>\n",
       "      <td>0</td>\n",
       "      <td>0</td>\n",
       "      <td>0</td>\n",
       "      <td>0</td>\n",
       "      <td>...</td>\n",
       "      <td>0</td>\n",
       "      <td>0</td>\n",
       "      <td>0</td>\n",
       "      <td>0</td>\n",
       "      <td>0</td>\n",
       "      <td>0</td>\n",
       "      <td>0</td>\n",
       "      <td>0</td>\n",
       "      <td>0</td>\n",
       "      <td>0</td>\n",
       "    </tr>\n",
       "    <tr>\n",
       "      <th>3</th>\n",
       "      <td>61948</td>\n",
       "      <td>16000</td>\n",
       "      <td>0</td>\n",
       "      <td>0</td>\n",
       "      <td>0</td>\n",
       "      <td>0</td>\n",
       "      <td>0</td>\n",
       "      <td>0</td>\n",
       "      <td>0</td>\n",
       "      <td>0</td>\n",
       "      <td>...</td>\n",
       "      <td>0</td>\n",
       "      <td>0</td>\n",
       "      <td>0</td>\n",
       "      <td>0</td>\n",
       "      <td>0</td>\n",
       "      <td>0</td>\n",
       "      <td>0</td>\n",
       "      <td>0</td>\n",
       "      <td>0</td>\n",
       "      <td>0</td>\n",
       "    </tr>\n",
       "    <tr>\n",
       "      <th>4</th>\n",
       "      <td>73948</td>\n",
       "      <td>4000</td>\n",
       "      <td>0</td>\n",
       "      <td>0</td>\n",
       "      <td>0</td>\n",
       "      <td>0</td>\n",
       "      <td>0</td>\n",
       "      <td>0</td>\n",
       "      <td>0</td>\n",
       "      <td>0</td>\n",
       "      <td>...</td>\n",
       "      <td>0</td>\n",
       "      <td>0</td>\n",
       "      <td>0</td>\n",
       "      <td>0</td>\n",
       "      <td>0</td>\n",
       "      <td>0</td>\n",
       "      <td>0</td>\n",
       "      <td>0</td>\n",
       "      <td>0</td>\n",
       "      <td>0</td>\n",
       "    </tr>\n",
       "  </tbody>\n",
       "</table>\n",
       "<p>5 rows × 248 columns</p>\n",
       "</div>"
      ],
      "text/plain": [
       "   price  mileage   A Class   B Class   C Class   CL Class   CLA Class  \\\n",
       "0   5200    63000         0         0         0          0           0   \n",
       "1  34948    27000         0         0         0          0           0   \n",
       "2  49948     6200         0         0         0          0           0   \n",
       "3  61948    16000         0         0         0          0           0   \n",
       "4  73948     4000         0         0         0          0           0   \n",
       "\n",
       "    CLC Class   CLK   CLS Class  ...  78.5  80.7  100.9  122.8  122.9  134.5  \\\n",
       "0           0     0           0  ...     0     0      0      0      0      0   \n",
       "1           0     0           0  ...     0     0      0      0      0      0   \n",
       "2           0     0           0  ...     0     0      0      0      0      0   \n",
       "3           0     0           0  ...     0     0      0      0      0      0   \n",
       "4           0     0           0  ...     0     0      0      0      0      0   \n",
       "\n",
       "   176.6  188.3  201.8  217.3  \n",
       "0      0      0      0      0  \n",
       "1      0      0      0      0  \n",
       "2      0      0      0      0  \n",
       "3      0      0      0      0  \n",
       "4      0      0      0      0  \n",
       "\n",
       "[5 rows x 248 columns]"
      ]
     },
     "execution_count": 17,
     "metadata": {},
     "output_type": "execute_result"
    }
   ],
   "source": [
    "auto_data_dummy = pd.concat([\n",
    "    new_auto_data.drop(['engineSize', 'tax', 'year', 'mpg'], axis = 1),\n",
    "    pd.get_dummies(auto_data['engineSize']),\n",
    "    pd.get_dummies(auto_data['tax']),\n",
    "    pd.get_dummies(auto_data['year']),\n",
    "    pd.get_dummies(auto_data['mpg'])], axis = 1)\n",
    "auto_data_dummy.head()"
   ]
  },
  {
   "cell_type": "code",
   "execution_count": 18,
   "metadata": {},
   "outputs": [
    {
     "name": "stdout",
     "output_type": "stream",
     "text": [
      "RMSE = 4062.105\n",
      "Test std = 12330.882 \n",
      "\n"
     ]
    }
   ],
   "source": [
    "X = auto_data_dummy.drop(['price'], axis=1) \n",
    "Y = auto_data_dummy['price']\n",
    "X_train, X_test, Y_train, Y_test = train_test_split(X, Y, test_size=0.3, random_state=10)\n",
    "\n",
    "std_scaler = StandardScaler()\n",
    "\n",
    "X_train_scaled = std_scaler.fit_transform(X_train)\n",
    "X_test_scaled = std_scaler.transform(X_test)\n",
    "\n",
    "model_Ridge_dummy = Ridge()\n",
    "\n",
    "model_Ridge_dummy.fit(X_train_scaled, Y_train)\n",
    "predictions_Ridge_dummy = model_Ridge_dummy.predict(X_test_scaled)\n",
    "\n",
    "print (f'RMSE = {round(metrics.mean_squared_error(Y_test, predictions_Ridge_dummy, squared = False), 3)}')\n",
    "print (f'Test std = {round(Y_test.std(), 3)}', '\\n')"
   ]
  },
  {
   "cell_type": "code",
   "execution_count": 19,
   "metadata": {},
   "outputs": [
    {
     "data": {
      "text/plain": [
       "Text(0, 0.5, 'Target')"
      ]
     },
     "execution_count": 19,
     "metadata": {},
     "output_type": "execute_result"
    },
    {
     "data": {
      "image/png": "[encoded data removed]",
      "text/plain": [
       "<Figure size 576x576 with 1 Axes>"
      ]
     },
     "metadata": {
      "needs_background": "light"
     },
     "output_type": "display_data"
    }
   ],
   "source": [
    "plt.figure(figsize=(8,8))\n",
    "plt.scatter(predictions_Ridge_dummy, Y_test)\n",
    "plt.title('Ridge dummy')\n",
    "plt.xlabel('Predictions')\n",
    "plt.ylabel('Target')"
   ]
  },
  {
   "cell_type": "markdown",
   "metadata": {},
   "source": [
    "<h4>RandomForestRegressor"
   ]
  },
  {
   "cell_type": "code",
   "execution_count": 20,
   "metadata": {},
   "outputs": [],
   "source": [
    "data_RandomForest = pd.concat([\n",
    "    new_auto_data.drop(['engineSize'], axis = 1),\n",
    "    pd.get_dummies(new_auto_data['engineSize'])\n",
    "], axis = 1)"
   ]
  },
  {
   "cell_type": "code",
   "execution_count": 21,
   "metadata": {},
   "outputs": [],
   "source": [
    "X = data_RandomForest.drop(['price'], axis=1) \n",
    "Y = data_RandomForest['price']\n",
    "X_train, X_test, Y_train, Y_test = train_test_split(X, Y, test_size=0.3, random_state=10)\n",
    "\n",
    "std_scaler = StandardScaler()\n",
    "\n",
    "X_train_scaled = std_scaler.fit_transform(X_train)\n",
    "X_test_scaled = std_scaler.transform(X_test)"
   ]
  },
  {
   "cell_type": "code",
   "execution_count": 22,
   "metadata": {},
   "outputs": [
    {
     "name": "stdout",
     "output_type": "stream",
     "text": [
      "RMSE = 2464.052\n",
      "Test std = 12330.882 \n",
      "\n"
     ]
    }
   ],
   "source": [
    "from sklearn.ensemble import RandomForestRegressor\n",
    "\n",
    "model_RandomForest = RandomForestRegressor(random_state = 10, n_estimators = 100)\n",
    "\n",
    "model_RandomForest.fit(X_train_scaled, Y_train)\n",
    "predictions_RandomForest = model_RandomForest.predict(X_test_scaled)\n",
    "\n",
    "print (f'RMSE = {round(metrics.mean_squared_error(Y_test, predictions_RandomForest, squared=False), 3)}')\n",
    "print (f'Test std = {round(Y_test.std(), 3)}', '\\n')\n",
    "\n",
    "# pd.DataFrame(model_RandomForest.feature_importances_, data_RandomForest.columns[1:], \n",
    "#              columns=['Importance']).sort_values('Importance')"
   ]
  },
  {
   "cell_type": "code",
   "execution_count": 23,
   "metadata": {},
   "outputs": [
    {
     "data": {
      "text/plain": [
       "Text(0, 0.5, 'Target')"
      ]
     },
     "execution_count": 23,
     "metadata": {},
     "output_type": "execute_result"
    },
    {
     "data": {
      "image/png": "[encoded data removed]",
      "text/plain": [
       "<Figure size 576x576 with 1 Axes>"
      ]
     },
     "metadata": {
      "needs_background": "light"
     },
     "output_type": "display_data"
    }
   ],
   "source": [
    "plt.figure(figsize=(8, 8))\n",
    "plt.scatter(predictions_RandomForest, Y_test)\n",
    "plt.title('Random Forest Regressor')\n",
    "plt.xlabel('Predictions')\n",
    "plt.ylabel('Target')"
   ]
  },
  {
   "cell_type": "code",
   "execution_count": null,
   "metadata": {},
   "outputs": [],
   "source": []
  }
 ],
 "metadata": {
  "kernelspec": {
   "display_name": "Python 3",
   "language": "python",
   "name": "python3"
  },
  "language_info": {
   "codemirror_mode": {
    "name": "ipython",
    "version": 3
   },
   "file_extension": ".py",
   "mimetype": "text/x-python",
   "name": "python",
   "nbconvert_exporter": "python",
   "pygments_lexer": "ipython3",
   "version": "3.7.4"
  }
 },
 "nbformat": 4,
 "nbformat_minor": 4
}
